{
 "cells": [
  {
   "cell_type": "code",
   "execution_count": 1,
   "metadata": {
    "collapsed": false
   },
   "outputs": [],
   "source": [
    "activitiesdf=spark.read.load(\"fit_store/hortovanyi.activities.parquet\")\n",
    "activitiesdf.cache()\n",
    "activitiesdf.createOrReplaceTempView(\"activities\")"
   ]
  },
  {
   "cell_type": "code",
   "execution_count": 2,
   "metadata": {
    "collapsed": false
   },
   "outputs": [
    {
     "name": "stdout",
     "output_type": "stream",
     "text": [
      "+----------+--------------------+---------+-----------+----------+-------------+\n",
      "|activityId|           timestamp| distance|elapsedTime|movingTime|caloriesBurnt|\n",
      "+----------+--------------------+---------+-----------+----------+-------------+\n",
      "|1354047589|2012-11-28 06:19:...| 52901.69|       8553|      8120|          959|\n",
      "|1354223222|2012-11-30 07:07:...| 74415.39|      11468|     10699|         1182|\n",
      "|1354310159|2012-12-01 07:15:...| 58289.94|       9315|      8524|          893|\n",
      "|1354390147|2012-12-02 05:29:...| 73341.14|      11944|     11338|         1409|\n",
      "|1354654690|2012-12-05 06:58:...| 66219.84|      13381|     10993|         1273|\n",
      "|1354738960|2012-12-06 06:22:...|100377.06|      16581|     15734|         1884|\n",
      "|1354824870|2012-12-07 06:14:...| 60281.83|       9004|      8351|          998|\n",
      "|1354912164|2012-12-08 06:29:...| 71723.83|      11668|     10719|         1106|\n",
      "|1355174901|2012-12-11 07:28:...| 40397.36|       6481|      5885|          664|\n",
      "|1355349495|2012-12-13 07:58:...| 73333.29|      13208|     11801|         1526|\n",
      "|1355517255|2012-12-15 06:34:...| 89187.38|      13881|     13248|         1493|\n",
      "|1355776366|2012-12-18 06:32:...| 57231.96|       8870|      7861|         1008|\n",
      "|1356123420|2012-12-22 06:57:...| 63129.01|      10416|      9118|         1216|\n",
      "|1356211207|2012-12-23 07:20:...| 73724.59|      12072|     11313|         1562|\n",
      "|1356381196|2012-12-25 06:33:...|101270.56|      16616|     15853|         2055|\n",
      "|1356551506|2012-12-27 05:51:...| 75019.64|      10005|      9470|         1613|\n",
      "|1356643950|2012-12-28 07:32:...| 62290.49|      10122|      9089|         1075|\n",
      "|1356813758|2012-12-30 06:42:...|  77069.1|      17653|     11962|         1681|\n",
      "|1356901290|2012-12-31 07:01:...| 56884.98|       8289|      7860|          953|\n",
      "|1356987735|2013-01-01 07:02:...| 60738.89|      10075|      9397|         1179|\n",
      "+----------+--------------------+---------+-----------+----------+-------------+\n",
      "only showing top 20 rows\n",
      "\n"
     ]
    }
   ],
   "source": [
    "results= spark.sql(\"select activityId, Timestamp(activityDateTime) as timestamp, distance, elapsedTime, movingTime, caloriesBurnt from activities\")\n",
    "results.show()"
   ]
  },
  {
   "cell_type": "code",
   "execution_count": 3,
   "metadata": {
    "collapsed": false
   },
   "outputs": [],
   "source": [
    "from pyspark.sql.functions import window, sum\n",
    "w=activitiesdf.groupBy(window('activityDateTime','7 day')).agg(sum(\"distance\").alias('totalDistance'))"
   ]
  },
  {
   "cell_type": "code",
   "execution_count": 4,
   "metadata": {
    "collapsed": false
   },
   "outputs": [],
   "source": [
    "weeklysum=w.select(w.window.start.cast(\"string\").alias(\"start\"),w.window.end.cast(\"string\").alias(\"end\"), \"totalDistance\").collect()\n",
    "weeklydf=spark.createDataFrame(weeklysum)"
   ]
  },
  {
   "cell_type": "code",
   "execution_count": 5,
   "metadata": {
    "collapsed": true
   },
   "outputs": [],
   "source": [
    "import matplotlib.mlab as mlab\n",
    "import matplotlib.pyplot as plt\n",
    "%matplotlib inline"
   ]
  },
  {
   "cell_type": "code",
   "execution_count": 6,
   "metadata": {
    "collapsed": false
   },
   "outputs": [
    {
     "data": {
      "image/png": "[encoded data removed]",
      "text/plain": [
       "<matplotlib.figure.Figure at 0x113539160>"
      ]
     },
     "metadata": {},
     "output_type": "display_data"
    }
   ],
   "source": [
    "num_bins = 25\n",
    "plt.xlabel('Distance KMs/Week')\n",
    "plt.ylabel('Frequency')\n",
    "n, bins, patches = plt.hist(weeklydf.toPandas()['totalDistance']/1000, num_bins, facecolor='green')"
   ]
  },
  {
   "cell_type": "code",
   "execution_count": 7,
   "metadata": {
    "collapsed": false
   },
   "outputs": [
    {
     "name": "stdout",
     "output_type": "stream",
     "text": [
      "+-------------------+-------------------+------------------+\n",
      "|              start|                end|     totalDistance|\n",
      "+-------------------+-------------------+------------------+\n",
      "|2015-04-30 10:00:00|2015-05-07 10:00:00|         479334.31|\n",
      "|2015-04-09 10:00:00|2015-04-16 10:00:00|         422166.85|\n",
      "|2015-05-07 10:00:00|2015-05-14 10:00:00|399449.94999999995|\n",
      "|2012-12-27 10:00:00|2013-01-03 10:00:00|         396364.98|\n",
      "|2012-09-27 10:00:00|2012-10-04 10:00:00|         385629.23|\n",
      "|2012-11-29 10:00:00|2012-12-06 10:00:00|372643.37000000005|\n",
      "|2012-11-15 10:00:00|2012-11-22 10:00:00|         368036.75|\n",
      "|2013-02-07 10:00:00|2013-02-14 10:00:00|362254.75999999995|\n",
      "|2013-10-03 10:00:00|2013-10-10 10:00:00|361038.18000000005|\n",
      "|2014-08-28 10:00:00|2014-09-04 10:00:00|340464.68999999994|\n",
      "|2015-04-16 10:00:00|2015-04-23 10:00:00|336506.76999999996|\n",
      "|2016-09-29 10:00:00|2016-10-06 10:00:00|334256.07999999996|\n",
      "|2013-09-05 10:00:00|2013-09-12 10:00:00|         333909.91|\n",
      "|2012-11-08 10:00:00|2012-11-15 10:00:00|         333851.62|\n",
      "|2013-12-26 10:00:00|2014-01-02 10:00:00|         332287.44|\n",
      "|2013-01-31 10:00:00|2013-02-07 10:00:00|         326976.68|\n",
      "|2013-09-26 10:00:00|2013-10-03 10:00:00|         325995.93|\n",
      "|2015-09-10 10:00:00|2015-09-17 10:00:00| 325852.7899999999|\n",
      "|2013-08-22 10:00:00|2013-08-29 10:00:00|         324367.87|\n",
      "|2014-03-06 10:00:00|2014-03-13 10:00:00|         319159.58|\n",
      "+-------------------+-------------------+------------------+\n",
      "only showing top 20 rows\n",
      "\n"
     ]
    }
   ],
   "source": [
    "weeklydf.orderBy(\"totalDistance\",ascending=False).show()"
   ]
  }
 ],
 "metadata": {
  "kernelspec": {
   "display_name": "Python 3",
   "language": "python",
   "name": "python3"
  },
  "language_info": {
   "codemirror_mode": {
    "name": "ipython",
    "version": 3
   },
   "file_extension": ".py",
   "mimetype": "text/x-python",
   "name": "python",
   "nbconvert_exporter": "python",
   "pygments_lexer": "ipython3",
   "version": "3.5.2"
  }
 },
 "nbformat": 4,
 "nbformat_minor": 0
}
